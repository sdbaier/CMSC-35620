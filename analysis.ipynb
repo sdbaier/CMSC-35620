{
 "cells": [
  {
   "cell_type": "code",
   "execution_count": 11,
   "metadata": {},
   "outputs": [],
   "source": [
    "# imports\n",
    "import bz2 \n",
    "import csv\n",
    "import pickle\n",
    "import _pickle as cPickle\n",
    "import os\n",
    "import pandas as pd\n",
    "import numpy as np\n",
    "import matplotlib.pyplot as plt\n",
    "from sklearn.linear_model import LinearRegression\n",
    "from scipy import stats\n",
    "from nltk.corpus import stopwords\n",
    "stopwords = set(stopwords.words('english'))\n",
    "import numpy as np"
   ]
  },
  {
   "cell_type": "code",
   "execution_count": 2,
   "metadata": {},
   "outputs": [],
   "source": [
    "# constants\n",
    "OUT_DIR = \"outputs\""
   ]
  },
  {
   "attachments": {},
   "cell_type": "markdown",
   "metadata": {},
   "source": [
    "C97355855 = Thermodynamics\n",
    "C12554922 = Biophysics\n",
    "C105795698 = Statistics\n",
    "C184779094 = Atomic Physics\n",
    "C153294291 = Meteorology\n",
    "C8058405 = Geophysics\n",
    "C144024400 = Sociology\n",
    "C111368507 = Oceanography"
   ]
  },
  {
   "cell_type": "code",
   "execution_count": 13,
   "metadata": {},
   "outputs": [
    {
     "name": "stdout",
     "output_type": "stream",
     "text": [
      "outputs/C12554922_10_dims_2000_2020.csv\n",
      "-2.3073248407643305 47.98089171974521 0.7667271400682296 1.9346725943486203e-06 0.3181708873360619\n",
      "outputs/C97355855_10_dims_2000_2020.csv\n",
      "-2.0917431192660563 48.34862385321103 0.4129155248421304 0.0016815989531504304 0.57220446282373\n",
      "outputs/C105795698_10_dims_2000_2020.csv\n",
      "-0.04424157303370786 10.88061797752809 0.00017236976506639429 0.9549573882643843 0.7730111921933394\n",
      "outputs/C184779094_10_dims_2000_2020.csv\n",
      "-1.9336188436830843 46.00214132762314 0.43192524819933825 0.0012074850895410784 0.5087360541909578\n",
      "outputs/C153294291_10_dims_2000_2020.csv\n",
      "0.09252873563218382 8.255172413793105 0.002763845350052242 0.8209522434463897 0.40321990751473236\n",
      "outputs/C8058405_10_dims_2000_2020.csv\n",
      "1.1036036036036034 -9.391891891891891 0.5016380016380015 0.0003270609061553662 0.25235595307975806\n",
      "outputs/C144024400_10_dims_2000_2020.csv\n",
      "1.0703883495145632 -10.847087378640776 0.05838481906443073 0.2913244490126934 0.9861689614225259\n",
      "outputs/C111368507_10_dims_2000_2020.csv\n",
      "-1.7581680280046665 43.0703033838973 0.6553171740744664 8.785976318608375e-06 0.29252812352405855\n"
     ]
    }
   ],
   "source": [
    "for outfile in os.listdir(OUT_DIR):\n",
    "    outfile = os.path.join(OUT_DIR, outfile)\n",
    "    print(outfile)\n",
    "    df = pd.read_csv(outfile)\n",
    "\n",
    "    # plt.scatter(\n",
    "    #     df[\"Year\"] - 2000,\n",
    "    #     df[\"Optimal_Num_Clusters\"] / df[\"Num_Papers\"]\n",
    "    # )\n",
    "\n",
    "    # plt.xticks(range(0, 21, 2))\n",
    "    # plt.title(outfile)\n",
    "    # plt.show()\n",
    "    slope, intercept, r_value, p_value, std_err = stats.linregress(df[\"Optimal_Num_Clusters\"],df[\"Year\"] - 2000)\n",
    "    print(slope, intercept, r_value ** 2, p_value, std_err)\n"
   ]
  },
  {
   "cell_type": "code",
   "execution_count": null,
   "metadata": {},
   "outputs": [],
   "source": []
  }
 ],
 "metadata": {
  "kernelspec": {
   "display_name": "env",
   "language": "python",
   "name": "python3"
  },
  "language_info": {
   "codemirror_mode": {
    "name": "ipython",
    "version": 3
   },
   "file_extension": ".py",
   "mimetype": "text/x-python",
   "name": "python",
   "nbconvert_exporter": "python",
   "pygments_lexer": "ipython3",
   "version": "3.10.6"
  },
  "orig_nbformat": 4,
  "vscode": {
   "interpreter": {
    "hash": "d82df6d368dc879608945d608abd81a382dda7fccbb6eb2bfbfeebfce0e6aa1c"
   }
  }
 },
 "nbformat": 4,
 "nbformat_minor": 2
}
